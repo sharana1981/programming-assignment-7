{
 "cells": [
  {
   "cell_type": "markdown",
   "id": "b4facc06",
   "metadata": {},
   "source": [
    "# programming assignment 7"
   ]
  },
  {
   "cell_type": "raw",
   "id": "63e0233e",
   "metadata": {},
   "source": [
    "1)Write a Python Program to find sum of array?"
   ]
  },
  {
   "cell_type": "code",
   "execution_count": 2,
   "id": "63e6ddb3",
   "metadata": {},
   "outputs": [
    {
     "name": "stdout",
     "output_type": "stream",
     "text": [
      "47\n",
      "47\n"
     ]
    }
   ],
   "source": [
    "l=[1,2,3,4,5,6,7,8,9,0,2]\n",
    "print(sum(l))\n",
    "sum=0\n",
    "for i in l:\n",
    "    sum+=i\n",
    "print(sum)"
   ]
  },
  {
   "cell_type": "raw",
   "id": "a311205f",
   "metadata": {},
   "source": [
    "2)Write a Python Program to find largest element in an array?"
   ]
  },
  {
   "cell_type": "code",
   "execution_count": 12,
   "id": "c49cdb60",
   "metadata": {},
   "outputs": [
    {
     "name": "stdout",
     "output_type": "stream",
     "text": [
      "828\n"
     ]
    }
   ],
   "source": [
    "l=[1,2,3,4,5,6,7,8,9,0,2,637,828,1,65]\n",
    "for i in range(0,len(l)):\n",
    "    for j in range(0,i):\n",
    "        if l[i]>l[j]:\n",
    "            l[i],l[j]=l[j],l[i]\n",
    "print(l[0])"
   ]
  },
  {
   "cell_type": "code",
   "execution_count": null,
   "id": "c575a283",
   "metadata": {},
   "outputs": [],
   "source": [
    "3)Write a Python Program for array rotation?"
   ]
  },
  {
   "cell_type": "code",
   "execution_count": 20,
   "id": "4d8eccb2",
   "metadata": {},
   "outputs": [
    {
     "name": "stdout",
     "output_type": "stream",
     "text": [
      "[5, 4, 3, 2, 1]\n"
     ]
    }
   ],
   "source": [
    "l=[1,2,3,4,5]\n",
    "k=[]\n",
    "for i in range(1,len(l)+1):\n",
    "    k.append(l[len(l)-i])\n",
    "print(k)"
   ]
  },
  {
   "cell_type": "raw",
   "id": "534dba9e",
   "metadata": {},
   "source": [
    "4)Write a Python Program to Split the array and add the first part to the end?"
   ]
  },
  {
   "cell_type": "code",
   "execution_count": 21,
   "id": "825fe9eb",
   "metadata": {},
   "outputs": [
    {
     "name": "stdout",
     "output_type": "stream",
     "text": [
      "[2, 3, 4, 5, 1]\n"
     ]
    }
   ],
   "source": [
    "l=[1,2,3,4,5]\n",
    "k=[]\n",
    "for i in range(0,len(l)):\n",
    "    if i==0:\n",
    "        pass\n",
    "    else:\n",
    "        k.append(l[i])\n",
    "k.append(l[0])\n",
    "print(k)\n"
   ]
  },
  {
   "cell_type": "raw",
   "id": "1ff29f6d",
   "metadata": {},
   "source": [
    "5)Write a Python Program to check if given array is Monotonic?"
   ]
  },
  {
   "cell_type": "code",
   "execution_count": 6,
   "id": "8d0412b5",
   "metadata": {},
   "outputs": [
    {
     "name": "stdout",
     "output_type": "stream",
     "text": [
      "The given array is monotonic\n"
     ]
    }
   ],
   "source": [
    "l=[9,8,7,6,5,4,3,2,1]\n",
    "count=0\n",
    "if l[0]<l[1]:\n",
    "    flag=0\n",
    "elif l[0]>l[1]:\n",
    "    flag=1\n",
    "i=0    \n",
    "while i<len(l)-1:\n",
    "    if flag==0:\n",
    "        if l[i]>l[i+1]:\n",
    "            count+=1\n",
    "            break\n",
    "    elif flag==1:\n",
    "        if l[i]<l[i+1]:\n",
    "            count+=1\n",
    "            break\n",
    "    i+=1\n",
    "if count==0:\n",
    "    print(\"The given array is monotonic\")\n",
    "elif count==1:\n",
    "    print(\"The given array is not monotonic\")\n",
    "        "
   ]
  }
 ],
 "metadata": {
  "kernelspec": {
   "display_name": "Python 3 (ipykernel)",
   "language": "python",
   "name": "python3"
  },
  "language_info": {
   "codemirror_mode": {
    "name": "ipython",
    "version": 3
   },
   "file_extension": ".py",
   "mimetype": "text/x-python",
   "name": "python",
   "nbconvert_exporter": "python",
   "pygments_lexer": "ipython3",
   "version": "3.9.12"
  }
 },
 "nbformat": 4,
 "nbformat_minor": 5
}
